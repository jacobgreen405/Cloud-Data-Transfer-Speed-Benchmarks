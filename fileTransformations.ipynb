{
 "cells": [
  {
   "cell_type": "markdown",
   "id": "872b26e8",
   "metadata": {},
   "source": [
    "# File Transformations"
   ]
  },
  {
   "cell_type": "markdown",
   "id": "42cc8d22",
   "metadata": {},
   "source": [
    "## For Use in Cloud Data Throughput Benchmarking"
   ]
  },
  {
   "cell_type": "markdown",
   "id": "7f4b52f3",
   "metadata": {},
   "source": [
    "-------------------------------------------------------------------------------------------------------------------------------\n",
    "\n",
    "**WARNING:**\n",
    "\n",
    "**RUNNING THESE CELLS WILL RAISE AN ERROR OR OVERWRITE DATA ALREADY STORED WITHIN gs://cloud-data-benchmarks** \n",
    "\n",
    "**CHANGE THE BUCKET AND/OR SOURCE & OUTPUT FILE(S) IF YOU WISH TO USE THIS NOTEBOOK**\n",
    "\n",
    "-------------------------------------------------------------------------------------------------------------------------------"
   ]
  },
  {
   "cell_type": "code",
   "execution_count": null,
   "id": "d62efd5a",
   "metadata": {},
   "outputs": [],
   "source": [
    "import pandas as pd\n",
    "import dask.dataframe as dd\n",
    "import dask.array as dsa\n",
    "import zarr\n",
    "import xarray as xr\n",
    "import numpy as np\n",
    "import intake\n",
    "token = '/home/ubuntu/Cloud-Data-Transfer-Speed-Benchmarks/cloud-data-benchmarks.json'"
   ]
  },
  {
   "cell_type": "markdown",
   "id": "2d7859b8",
   "metadata": {},
   "source": [
    "Note: The name_function does not sort partitions in the output files. Therefore, when using this method to split up CSV files into partitions of the same (or different) file type, make sure to include a sorting feature in the naming function.\n",
    "\n",
    "In this instance, since these files will be used to measure read speed, the order that the files are concatenated by Dask when they are called into the timing program does not matter. If this method is being used for machine learning or data analysis, it might be a good idea to preserve the partition order."
   ]
  },
  {
   "cell_type": "markdown",
   "id": "af8220e1",
   "metadata": {},
   "source": [
    "## CSV to Partitioned Parquets"
   ]
  },
  {
   "cell_type": "code",
   "execution_count": null,
   "id": "e9f40627",
   "metadata": {},
   "outputs": [],
   "source": [
    "df = dd.read_csv('gs://cloud-data-benchmarks/ETOPO1_Ice_g_gmt4.csv', assume_missing=True)"
   ]
  },
  {
   "cell_type": "code",
   "execution_count": null,
   "id": "7844f4e4",
   "metadata": {},
   "outputs": [],
   "source": [
    "name_function = lambda x: f\"ETOPO1_Ice_g_gmt4_{x}.parquet\"\n",
    "dd.to_parquet(df, 'gs://cloud-data-benchmarks/parquetpartitions', name_function=name_function, storage_options={'token':token})\n",
    "del df"
   ]
  },
  {
   "cell_type": "markdown",
   "id": "7247eb09",
   "metadata": {},
   "source": [
    "## CSV to One Parquet File"
   ]
  },
  {
   "cell_type": "code",
   "execution_count": null,
   "id": "341613aa",
   "metadata": {},
   "outputs": [],
   "source": [
    "df = pd.read_csv('/home/ubuntu/Cloud-Data-Transfer-Speed-Benchmarks/ETOPO1_Ice_g_gmt4.csv')"
   ]
  },
  {
   "cell_type": "code",
   "execution_count": null,
   "id": "63978cf8",
   "metadata": {},
   "outputs": [],
   "source": [
    "df.to_parquet('/home/ubuntu/Cloud-Data-Transfer-Speed-Benchmarks/ETOPO1_Ice_g_gmt4.parquet', engine='fastparquet')\n",
    "del df"
   ]
  },
  {
   "cell_type": "markdown",
   "id": "4c8f9648",
   "metadata": {},
   "source": [
    "## CSV to Partitioned CSVs"
   ]
  },
  {
   "cell_type": "code",
   "execution_count": null,
   "id": "3611097a",
   "metadata": {},
   "outputs": [],
   "source": [
    "df = dd.read_csv('gs://cloud-data-benchmarks/ETOPO1_Ice_g_gmt4.csv', assume_missing=True)"
   ]
  },
  {
   "cell_type": "code",
   "execution_count": null,
   "id": "1deb892b",
   "metadata": {},
   "outputs": [],
   "source": [
    "def name_function(i):\n",
    "    return \"ETOPO1_Ice_g_gmt4_\" + str(i) + \".csv\"\n",
    "dd.to_csv(df, 'gs://cloud-data-benchmarks/csvpartitions', name_function=name_function, storage_options={'token':token})\n",
    "del df"
   ]
  },
  {
   "cell_type": "markdown",
   "id": "eb8e6695",
   "metadata": {},
   "source": [
    "## NetCDF to Zarr"
   ]
  },
  {
   "cell_type": "markdown",
   "id": "54de6d59",
   "metadata": {},
   "source": [
    "### Zarr Group"
   ]
  },
  {
   "cell_type": "markdown",
   "id": "19f57bf9",
   "metadata": {},
   "source": [
    "This approach uses Xarray to store the contents of the NetCDF file within a Zarr group. Note that there is no method of retrieving the NetCDF file directly from cloud storage."
   ]
  },
  {
   "cell_type": "code",
   "execution_count": null,
   "id": "45211d99",
   "metadata": {},
   "outputs": [],
   "source": [
    "ds = intake.open\n",
    "ds.to_zarr(store='gs://cloud-data-benchmarks/ETOPO1_Ice_g_gmt4.zarr', storage_options={'token':token}, consolidated=True)"
   ]
  },
  {
   "cell_type": "markdown",
   "id": "513d62da",
   "metadata": {},
   "source": [
    "### Zarr Array"
   ]
  },
  {
   "cell_type": "code",
   "execution_count": null,
   "id": "0bfbea50",
   "metadata": {},
   "outputs": [],
   "source": [
    "ds = xr.open_zarr(store='gs://cloud-data-benchmarks/ETOPO1_Ice_g_gmt4.zarr', storage_options={'token':token}, consolidated=True)\n",
    "darray = ds.to_array()\n",
    "da = darray.data\n",
    "da = dsa.from_array(da)\n",
    "dsa.to_zarr(da, 'gs://cloud-data-benchmarks/ETOPO1_Ice_g_gmt4.zarr', storage_options={'token':token})\n"
   ]
  },
  {
   "cell_type": "code",
   "execution_count": null,
   "id": "076316e2",
   "metadata": {},
   "outputs": [],
   "source": []
  }
 ],
 "metadata": {
  "kernelspec": {
   "display_name": "SSH ubuntu@10.128.0.150 jacob-lab-jgreen_daskMLtut",
   "language": "",
   "name": "rik_ssh_ubuntu_10_128_0_150_jacoblabjgreen_daskmltut"
  },
  "language_info": {
   "codemirror_mode": {
    "name": "ipython",
    "version": 3
   },
   "file_extension": ".py",
   "mimetype": "text/x-python",
   "name": "python",
   "nbconvert_exporter": "python",
   "pygments_lexer": "ipython3",
   "version": "3.9.12"
  }
 },
 "nbformat": 4,
 "nbformat_minor": 5
}
